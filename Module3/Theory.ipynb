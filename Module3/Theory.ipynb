{
 "cells": [
  {
   "cell_type": "markdown",
   "metadata": {},
   "source": [
    "## Boolean "
   ]
  },
  {
   "cell_type": "code",
   "execution_count": 1,
   "metadata": {},
   "outputs": [
    {
     "name": "stdout",
     "output_type": "stream",
     "text": [
      "true\n",
      "false\n"
     ]
    }
   ],
   "source": [
    "boolean t = true;\n",
    "boolean f = false;\n",
    "\n",
    "System.out.println(t);\n",
    "System.out.println(f);"
   ]
  },
  {
   "cell_type": "code",
   "execution_count": 2,
   "metadata": {},
   "outputs": [],
   "source": [
    "boolean t = true;\n",
    "boolean f = !t;"
   ]
  },
  {
   "cell_type": "code",
   "execution_count": 5,
   "metadata": {},
   "outputs": [],
   "source": [
    "boolean b1 = false && false; // false\n",
    "boolean b2 = false && true;  // false\n",
    "boolean b3 = true && false;  // false\n",
    "boolean b4 = true && true;   // true "
   ]
  },
  {
   "cell_type": "code",
   "execution_count": 8,
   "metadata": {},
   "outputs": [],
   "source": [
    "boolean b1 = false || false; // false\n",
    "boolean b2 = false || true;  // true\n",
    "boolean b3 = true || false;  // true\n",
    "boolean b4 = true || true;   // true"
   ]
  },
  {
   "cell_type": "code",
   "execution_count": 11,
   "metadata": {},
   "outputs": [],
   "source": [
    "boolean b1 = false ^ false; // false\n",
    "boolean b2 = false ^ true;  // true\n",
    "boolean b3 = true ^ false;  // true\n",
    "boolean b4 = true ^ true;   // false"
   ]
  },
  {
   "cell_type": "code",
   "execution_count": 12,
   "metadata": {},
   "outputs": [],
   "source": [
    "boolean cold = false;\n",
    "boolean dry = false;\n",
    "boolean summer = false; // suppose, now is autumn\n",
    "\n",
    "boolean trekking = (dry && !cold) || summer; // true, let's go to trek!"
   ]
  },
  {
   "cell_type": "code",
   "execution_count": 13,
   "metadata": {},
   "outputs": [
    {
     "data": {
      "text/plain": [
       "false"
      ]
     },
     "execution_count": 13,
     "metadata": {},
     "output_type": "execute_result"
    }
   ],
   "source": [
    "trekking"
   ]
  },
  {
   "cell_type": "code",
   "execution_count": 14,
   "metadata": {},
   "outputs": [],
   "source": [
    "boolean b1 = true;\n",
    "boolean b2 = false;"
   ]
  },
  {
   "cell_type": "code",
   "execution_count": 15,
   "metadata": {},
   "outputs": [
    {
     "data": {
      "text/plain": [
       "true"
      ]
     },
     "execution_count": 15,
     "metadata": {},
     "output_type": "execute_result"
    }
   ],
   "source": [
    "b1 || b2"
   ]
  },
  {
   "cell_type": "code",
   "execution_count": 16,
   "metadata": {},
   "outputs": [
    {
     "data": {
      "text/plain": [
       "false"
      ]
     },
     "execution_count": 16,
     "metadata": {},
     "output_type": "execute_result"
    }
   ],
   "source": [
    "b1 && b2"
   ]
  },
  {
   "cell_type": "code",
   "execution_count": 17,
   "metadata": {},
   "outputs": [
    {
     "data": {
      "text/plain": [
       "true"
      ]
     },
     "execution_count": 17,
     "metadata": {},
     "output_type": "execute_result"
    }
   ],
   "source": [
    "b1 ^ b2"
   ]
  },
  {
   "cell_type": "code",
   "execution_count": 18,
   "metadata": {},
   "outputs": [
    {
     "data": {
      "text/plain": [
       "true"
      ]
     },
     "execution_count": 18,
     "metadata": {},
     "output_type": "execute_result"
    }
   ],
   "source": [
    "b1 | b2"
   ]
  },
  {
   "cell_type": "code",
   "execution_count": 19,
   "metadata": {},
   "outputs": [
    {
     "data": {
      "text/plain": [
       "false"
      ]
     },
     "execution_count": 19,
     "metadata": {},
     "output_type": "execute_result"
    }
   ],
   "source": [
    "b1 & b2"
   ]
  },
  {
   "cell_type": "markdown",
   "metadata": {},
   "source": [
    "## Relation operators"
   ]
  },
  {
   "cell_type": "code",
   "execution_count": 20,
   "metadata": {},
   "outputs": [],
   "source": [
    "int one = 1;\n",
    "int two = 2;\n",
    "int three = 3;\n",
    "int four = 4;\n",
    "\n",
    "boolean oneIsOne = one == one; // true\n",
    "\n",
    "boolean res1 = two <= three; // true\n",
    "boolean res2 = two != four;  // true\n",
    "boolean res3 = two > four;   // false\n",
    "boolean res4 = one == three; // false"
   ]
  },
  {
   "cell_type": "code",
   "execution_count": 21,
   "metadata": {},
   "outputs": [],
   "source": [
    "int number = 1000;\n",
    "boolean result = number + 10 > number + 9; // 1010 > 1009 is true"
   ]
  },
  {
   "cell_type": "code",
   "execution_count": 22,
   "metadata": {},
   "outputs": [
    {
     "data": {
      "text/plain": [
       "false"
      ]
     },
     "execution_count": 22,
     "metadata": {},
     "output_type": "execute_result"
    }
   ],
   "source": [
    "number > 100 && number < 200; // it means 100 < number < 200 "
   ]
  },
  {
   "cell_type": "raw",
   "metadata": {},
   "source": [
    "Suppose there are three children in the sports class. You want to check that they are arranged in the ascending order. The following program reads three integer numbers h1, h2, h3 and then check that h1 >= h2 and h2 >= h3. Note, h means the height of a boy."
   ]
  },
  {
   "cell_type": "code",
   "execution_count": 23,
   "metadata": {},
   "outputs": [],
   "source": [
    "import java.util.Scanner;\n"
   ]
  },
  {
   "cell_type": "code",
   "execution_count": 26,
   "metadata": {},
   "outputs": [
    {
     "name": "stdin",
     "output_type": "stream",
     "text": [
      " 180\n",
      " 174\n",
      " 170\n"
     ]
    },
    {
     "name": "stdout",
     "output_type": "stream",
     "text": [
      "true\n"
     ]
    }
   ],
   "source": [
    "Scanner scanner = new Scanner(System.in);\n",
    "\n",
    "int h1 = scanner.nextInt();\n",
    "int h2 = scanner.nextInt();\n",
    "int h3 = scanner.nextInt();\n",
    "\n",
    "boolean ascOrdered = (h1 >= h2) && (h2 >= h3);\n",
    "\n",
    "System.out.println(ascOrdered);"
   ]
  },
  {
   "cell_type": "markdown",
   "metadata": {},
   "source": [
    "## Conditional statement\n"
   ]
  },
  {
   "cell_type": "code",
   "execution_count": 27,
   "metadata": {},
   "outputs": [],
   "source": [
    "int num = 1;"
   ]
  },
  {
   "cell_type": "code",
   "execution_count": 28,
   "metadata": {},
   "outputs": [
    {
     "name": "stdout",
     "output_type": "stream",
     "text": [
      "It's an odd number\n"
     ]
    }
   ],
   "source": [
    "if (num % 2 == 0) {\n",
    "    System.out.println(\"It's an even number\");\n",
    "} else {    \n",
    "    System.out.println(\"It's an odd number\");\n",
    "}"
   ]
  },
  {
   "cell_type": "code",
   "execution_count": null,
   "metadata": {},
   "outputs": [],
   "source": [
    "long dollars = 600; // your budget\n",
    "\n",
    "if (dollars < 1000) {\n",
    "    System.out.println(\"Buy a laptop\");\n",
    "} else if (dollars < 2000) {\n",
    "    System.out.println(\"Buy a personal computer\");\n",
    "} else if (dollars < 100_000) {\n",
    "    System.out.println(\"Buy a server\");\n",
    "} else {\n",
    "    System.out.println(\"Buy a data center or a quantum computer\");\n",
    "}"
   ]
  },
  {
   "cell_type": "code",
   "execution_count": 4,
   "metadata": {},
   "outputs": [
    {
     "name": "stdin",
     "output_type": "stream",
     "text": [
      " 2008\n"
     ]
    },
    {
     "name": "stdout",
     "output_type": "stream",
     "text": [
      "0\n"
     ]
    }
   ],
   "source": [
    "Scanner scanner = new Scanner(System.in);\n",
    "        \n",
    "int num = scanner.nextInt();\n",
    "\n",
    "int n4 = num % 10;\n",
    "int n3 = (num % 100 - n4) / 10;\n",
    "int n2 = (num % 1000 - n3 - n4) / 100;\n",
    "int n1 = num / 1000;\n",
    "\n",
    "// System.out.print(\"n4 = \" + n4);\n",
    "// System.out.print(\"n3 = \" + n3);\n",
    "// System.out.print(\"n2 = \" + n2);\n",
    "// System.out.print(\"n1 = \" + n1);\n",
    "\n",
    "if (n4 == n1 && n2 == n3) {\n",
    "    System.out.println(1);\n",
    "} else {\n",
    "    System.out.println(0);\n",
    "}"
   ]
  },
  {
   "cell_type": "code",
   "execution_count": 11,
   "metadata": {},
   "outputs": [],
   "source": [
    "public boolean cmp(int x1, int x2, int y1, int y2, int z1, int z2) {\n",
    "    if (x1 >= x2 && y1 >= y2 && z1 >= z2)\n",
    "        return true;\n",
    "    return false;\n",
    "}"
   ]
  },
  {
   "cell_type": "code",
   "execution_count": 12,
   "metadata": {},
   "outputs": [
    {
     "data": {
      "text/plain": [
       "false"
      ]
     },
     "execution_count": 12,
     "metadata": {},
     "output_type": "execute_result"
    }
   ],
   "source": [
    "cmp(1,2,1,1,1,1);"
   ]
  },
  {
   "cell_type": "code",
   "execution_count": 13,
   "metadata": {},
   "outputs": [],
   "source": [
    "public boolean rcmp(int x1, int x2, int y1, int y2, int z1, int z2) {\n",
    "    if (x1 <= x2 && y1 <= y2 && z1 <= z2)\n",
    "        return true;\n",
    "    return false;\n",
    "}"
   ]
  },
  {
   "cell_type": "code",
   "execution_count": 14,
   "metadata": {},
   "outputs": [
    {
     "data": {
      "text/plain": [
       "true"
      ]
     },
     "execution_count": 14,
     "metadata": {},
     "output_type": "execute_result"
    }
   ],
   "source": [
    "rcmp(1,2,1,1,1,1);"
   ]
  },
  {
   "cell_type": "code",
   "execution_count": 23,
   "metadata": {},
   "outputs": [],
   "source": [
    "public boolean b1_gr_b2(int x, int x1, int y, int y1, int z, int z1) {\n",
    "    if (cmp(x, x1, y, y1, z, z1) || \n",
    "    cmp(x, y1, y, x1, z, z1) ||\n",
    "    cmp(x, z1, y, x1, z, y1) ||\n",
    "    cmp(x, z1, y, y1, z, x1) ||\n",
    "    cmp(x, x1, y, z1, z, y1) ||\n",
    "    cmp(x, y1, y, z1, z, x1)) {\n",
    "        return true;\n",
    "    }\n",
    "    return false;\n",
    "}"
   ]
  },
  {
   "cell_type": "code",
   "execution_count": 24,
   "metadata": {},
   "outputs": [],
   "source": [
    "public boolean b2_gr_b1(int x, int x1, int y, int y1, int z, int z1) {\n",
    "    if (rcmp(x, x1, y, y1, z, z1) || \n",
    "    rcmp(x, y1, y, x1, z, z1) ||\n",
    "    rcmp(x, z1, y, x1, z, y1) ||\n",
    "    rcmp(x, z1, y, y1, z, x1) ||\n",
    "    rcmp(x, x1, y, z1, z, y1) ||\n",
    "    rcmp(x, y1, y, z1, z, x1)) {\n",
    "        return true;\n",
    "    }\n",
    "    return false;\n",
    "}"
   ]
  },
  {
   "cell_type": "code",
   "execution_count": 28,
   "metadata": {},
   "outputs": [
    {
     "name": "stdin",
     "output_type": "stream",
     "text": [
      " 2 3 4\n",
      " 1 3 5\n"
     ]
    },
    {
     "name": "stdout",
     "output_type": "stream",
     "text": [
      "Incomparable\n"
     ]
    }
   ],
   "source": [
    "Scanner scanner = new Scanner(System.in);\n",
    "\n",
    "int x = scanner.nextInt();\n",
    "int y = scanner.nextInt();\n",
    "int z = scanner.nextInt();\n",
    "\n",
    "int x1 = scanner.nextInt();\n",
    "int y1 = scanner.nextInt();\n",
    "int z1 = scanner.nextInt();\n",
    "\n",
    "if(b1_gr_b2(x, x1, y, y1, z, z1) && b2_gr_b1(x, x1, y, y1, z, z1)) {\n",
    "    // System.out.println(b1_gr_b2(x, x1, y, y1, z, z1));\n",
    "    // System.out.println(b2_gr_b1(x, x1, y, y1, z, z1));\n",
    "    System.out.println(\"Box 1 = Box 2\");\n",
    "} else if (b1_gr_b2(x, x1, y, y1, z, z1)) {\n",
    "    System.out.println(\"Box 1 > Box 2\");\n",
    "} else if (b2_gr_b1(x, x1, y, y1, z, z1)) {\n",
    "    System.out.println(\"Box1 < Box 2\");\n",
    "} else {\n",
    "    System.out.println(\"Incomparable\");\n",
    "}\n",
    "\n",
    "    "
   ]
  },
  {
   "cell_type": "code",
   "execution_count": null,
   "metadata": {},
   "outputs": [],
   "source": []
  }
 ],
 "metadata": {
  "kernelspec": {
   "display_name": "Java",
   "language": "java",
   "name": "java"
  },
  "language_info": {
   "codemirror_mode": "java",
   "file_extension": ".java",
   "mimetype": "text/x-java-source",
   "name": "Java",
   "pygments_lexer": "java",
   "version": "11.0.1+13-LTS"
  }
 },
 "nbformat": 4,
 "nbformat_minor": 2
}
