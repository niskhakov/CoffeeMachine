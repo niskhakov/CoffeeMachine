{
 "cells": [
  {
   "cell_type": "markdown",
   "metadata": {},
   "source": [
    "## Sizes and ranges"
   ]
  },
  {
   "cell_type": "markdown",
   "metadata": {},
   "source": [
    "__Integer numbers:__ long, int, short, byte\n",
    "\n",
    "__Floating-point types:__ double, float\n",
    "\n",
    "__Characters:__ char (2 bytes)\n",
    "\n",
    "__Booleans:__ boolean"
   ]
  },
  {
   "cell_type": "code",
   "execution_count": 1,
   "metadata": {},
   "outputs": [],
   "source": [
    "int one = 1;\n",
    "long million = 1_000_000;"
   ]
  },
  {
   "cell_type": "code",
   "execution_count": 2,
   "metadata": {},
   "outputs": [],
   "source": [
    "double pi = 3.1415;\n",
    "float e = 2.71828f;"
   ]
  },
  {
   "cell_type": "code",
   "execution_count": 3,
   "metadata": {},
   "outputs": [],
   "source": [
    "char lowerCaseLetter = 'a';\n",
    "char upperCaseLetter = 'Q';\n",
    "char dollar = '$';"
   ]
  },
  {
   "cell_type": "code",
   "execution_count": 4,
   "metadata": {},
   "outputs": [],
   "source": [
    "boolean enabled = true;\n",
    "boolean bugFound = false;"
   ]
  },
  {
   "cell_type": "markdown",
   "metadata": {},
   "source": [
    "## Type casting"
   ]
  },
  {
   "cell_type": "markdown",
   "metadata": {},
   "source": [
    "__Casting: implicit and explicit__"
   ]
  },
  {
   "cell_type": "markdown",
   "metadata": {},
   "source": [
    "__Implicit casting__ is performed automatically by compiler: \n",
    "\n",
    "char -> int; \n",
    "\n",
    "byte -> short -> int;\n",
    "\n",
    "int -> long -> float -> double;"
   ]
  },
  {
   "cell_type": "code",
   "execution_count": 2,
   "metadata": {},
   "outputs": [],
   "source": [
    "int num = 100;\n",
    "long bigNum = num; // implicit casting: int -> long"
   ]
  },
  {
   "cell_type": "code",
   "execution_count": 4,
   "metadata": {},
   "outputs": [],
   "source": [
    "long bigNum = 100_000_000;\n",
    "double bigFraction = bigNum; // 100000000.0\n",
    "// implicit casting long -> double"
   ]
  },
  {
   "cell_type": "code",
   "execution_count": 5,
   "metadata": {},
   "outputs": [],
   "source": [
    "char ch = '?';\n",
    "int code = ch; // 63"
   ]
  },
  {
   "cell_type": "markdown",
   "metadata": {},
   "source": [
    "__Explicit casting__"
   ]
  },
  {
   "cell_type": "code",
   "execution_count": 6,
   "metadata": {},
   "outputs": [],
   "source": [
    "double d = 2.00003;\n",
    "\n",
    "// it loses the fractional part\n",
    "long l =  (long) d; \n",
    "\n",
    "// requires explicit casting because long is wider than int\n",
    "int i = (int) l;    \n",
    "\n",
    "// requires explicit casting because the result is long (indicated by L)\n",
    "int val = (int) (3 + 2L); "
   ]
  },
  {
   "cell_type": "code",
   "execution_count": 15,
   "metadata": {},
   "outputs": [],
   "source": [
    "long bigNum = 100_000_000_000_000L;\n",
    "int n = (int)bigNum; // 276447232"
   ]
  },
  {
   "cell_type": "code",
   "execution_count": 18,
   "metadata": {},
   "outputs": [],
   "source": [
    "boolean b2 = (boolean) true; // 2\n",
    "boolean b3 = (boolean) b2; // 4"
   ]
  },
  {
   "cell_type": "code",
   "execution_count": 22,
   "metadata": {},
   "outputs": [],
   "source": [
    "char ch = 1;\n",
    "short s = 1;"
   ]
  },
  {
   "cell_type": "markdown",
   "metadata": {},
   "source": [
    "## Switch statement"
   ]
  },
  {
   "cell_type": "markdown",
   "metadata": {},
   "source": [
    "The switch statement provides a way to choose between multiple cases based on the value of a single variable (not an expression!). The variable can be an integer number, character, string, or enumeration."
   ]
  },
  {
   "cell_type": "code",
   "execution_count": 24,
   "metadata": {},
   "outputs": [
    {
     "name": "stdout",
     "output_type": "stream",
     "text": [
      "Loading a saved game\n"
     ]
    }
   ],
   "source": [
    "int action = 2;\n",
    "switch (action) {\n",
    "    case 1:\n",
    "        System.out.println(\"Starting a new game...\");\n",
    "        break;\n",
    "    case 2:\n",
    "        System.out.println(\"Loading a saved game\");\n",
    "        break;\n",
    "    case 3:\n",
    "        System.out.println(\"Displaying help...\");\n",
    "        break;\n",
    "    case 4:\n",
    "        System.out.println(\"Exiting...\");\n",
    "        break;\n",
    "    default:\n",
    "        System.out.println(\"Unsuitable action, please, try again\");\n",
    "}"
   ]
  },
  {
   "cell_type": "code",
   "execution_count": 26,
   "metadata": {},
   "outputs": [
    {
     "name": "stdout",
     "output_type": "stream",
     "text": [
      "500\n"
     ]
    }
   ],
   "source": [
    "int var1 = 100;\n",
    "int var2 = 0;\n",
    "\n",
    "switch (var1) {            \n",
    "    case 100:\n",
    "        var2 += var1;\n",
    "    case 200:\n",
    "        var2 += var1 / 4;\n",
    "    case 300:\n",
    "        var2 += var1 / 10;\n",
    "    default:\n",
    "        var2 = 500;\n",
    "}\n",
    "System.out.println(var2);"
   ]
  },
  {
   "cell_type": "markdown",
   "metadata": {},
   "source": [
    "__Contains task:__"
   ]
  },
  {
   "cell_type": "code",
   "execution_count": 27,
   "metadata": {},
   "outputs": [],
   "source": [
    "import java.util.Scanner;"
   ]
  },
  {
   "cell_type": "code",
   "execution_count": 35,
   "metadata": {},
   "outputs": [
    {
     "name": "stdin",
     "output_type": "stream",
     "text": [
      " abcde\n",
      " remove\n",
      " bc\n"
     ]
    },
    {
     "name": "stdout",
     "output_type": "stream",
     "text": [
      "ade\n"
     ]
    }
   ],
   "source": [
    "Scanner scanner = new Scanner(System.in);\n",
    "String st1 = scanner.next();\n",
    "String operation = scanner.next();\n",
    "String st2 = scanner.next();\n",
    "\n",
    "switch(operation) {\n",
    "    case \"concat\" :\n",
    "        System.out.println(st1.concat(st2));\n",
    "        break;\n",
    "    case \"remove\" :\n",
    "        System.out.println(st1.replaceAll(st2, \"\"));\n",
    "        break;\n",
    "    case \"contains\":\n",
    "        System.out.println(st1.contains(st2));\n",
    "        break;\n",
    "    default:\n",
    "        System.out.println(\"Unknown operation\");\n",
    "}"
   ]
  },
  {
   "cell_type": "markdown",
   "metadata": {},
   "source": [
    "__Simple calculator task:__"
   ]
  },
  {
   "cell_type": "code",
   "execution_count": 42,
   "metadata": {},
   "outputs": [
    {
     "name": "stdin",
     "output_type": "stream",
     "text": [
      " 1 ! 10\n"
     ]
    },
    {
     "name": "stdout",
     "output_type": "stream",
     "text": [
      "Unknown operator\n"
     ]
    }
   ],
   "source": [
    "Scanner scanner = new Scanner(System.in);\n",
    "long op1 = scanner.nextLong();\n",
    "String operator = scanner.next();\n",
    "long op2 = scanner.nextLong();\n",
    "\n",
    "switch(operator) {\n",
    "    case \"+\" :\n",
    "        System.out.println(op1 + op2);\n",
    "        break;\n",
    "    case \"-\" :\n",
    "        System.out.println(op1 - op2);\n",
    "        break;\n",
    "    case \"/\" :\n",
    "        if (op2 == 0) {\n",
    "            System.out.println(\"Division by 0!\");\n",
    "        } else {\n",
    "            System.out.println(op1 / op2);\n",
    "        }\n",
    "        break;\n",
    "    case \"*\" :\n",
    "        System.out.println(op1 * op2);\n",
    "        break;\n",
    "    default: \n",
    "        System.out.println(\"Unknown operator\");\n",
    "}"
   ]
  },
  {
   "cell_type": "markdown",
   "metadata": {},
   "source": [
    "## The for-loop"
   ]
  },
  {
   "cell_type": "code",
   "execution_count": 43,
   "metadata": {},
   "outputs": [
    {
     "name": "stdout",
     "output_type": "stream",
     "text": [
      "0 1 2 3 4 5 6 7 8 9 "
     ]
    }
   ],
   "source": [
    "int n = 9;\n",
    "for (int i = 0; i <= n; i++) {\n",
    "    System.out.print(i + \" \"); // here, space is used to separate numbers\n",
    "}"
   ]
  },
  {
   "cell_type": "code",
   "execution_count": 44,
   "metadata": {},
   "outputs": [
    {
     "name": "stdout",
     "output_type": "stream",
     "text": [
      "55\n"
     ]
    }
   ],
   "source": [
    "int startIncl = 1, endExcl = 11;\n",
    "\n",
    "int sum = 0;\n",
    "for (int i = startIncl; i < endExcl; i++) {\n",
    "    sum += i;\n",
    "}\n",
    "\n",
    "System.out.println(sum); // it prints \"55\""
   ]
  },
  {
   "cell_type": "code",
   "execution_count": 45,
   "metadata": {},
   "outputs": [
    {
     "name": "stdout",
     "output_type": "stream",
     "text": [
      "10 9 8 7 6 5 4 3 2 1 "
     ]
    }
   ],
   "source": [
    "int i = 10;\n",
    "for (; i > 0; i--) {\n",
    "    System.out.print(i + \" \");\n",
    "}"
   ]
  },
  {
   "cell_type": "code",
   "execution_count": 46,
   "metadata": {},
   "outputs": [
    {
     "name": "stdout",
     "output_type": "stream",
     "text": [
      "1\t2\t3\t4\t5\t6\t7\t8\t9\t\n",
      "2\t4\t6\t8\t10\t12\t14\t16\t18\t\n",
      "3\t6\t9\t12\t15\t18\t21\t24\t27\t\n",
      "4\t8\t12\t16\t20\t24\t28\t32\t36\t\n",
      "5\t10\t15\t20\t25\t30\t35\t40\t45\t\n",
      "6\t12\t18\t24\t30\t36\t42\t48\t54\t\n",
      "7\t14\t21\t28\t35\t42\t49\t56\t63\t\n",
      "8\t16\t24\t32\t40\t48\t56\t64\t72\t\n",
      "9\t18\t27\t36\t45\t54\t63\t72\t81\t\n"
     ]
    }
   ],
   "source": [
    "for (int i = 1; i < 10; i++) {\n",
    "    for (int j = 1; j < 10; j++) {\n",
    "        System.out.print(i * j + \"\\t\");\n",
    "    }\n",
    "    System.out.println();\n",
    "}"
   ]
  },
  {
   "cell_type": "markdown",
   "metadata": {},
   "source": [
    "__Size of parts task:__"
   ]
  },
  {
   "cell_type": "code",
   "execution_count": 47,
   "metadata": {},
   "outputs": [
    {
     "name": "stdin",
     "output_type": "stream",
     "text": [
      " 2\n",
      " 0\n",
      " 1\n"
     ]
    },
    {
     "name": "stdout",
     "output_type": "stream",
     "text": [
      "1 1 0\n"
     ]
    }
   ],
   "source": [
    "Scanner scanner = new Scanner(System.in);\n",
    "int n = scanner.nextInt();\n",
    "int ready = 0, reject = 0, fix = 0;\n",
    "int tmp;\n",
    "for(int i = 0; i < n; i++) {\n",
    "    tmp = scanner.nextInt();\n",
    "    if(tmp == 0)\n",
    "        ready++;\n",
    "    else if (tmp > 0)\n",
    "        fix++;\n",
    "    else\n",
    "        reject++;\n",
    "}\n",
    "\n",
    "System.out.println(\"\" + ready + \" \" + fix + \" \" + reject);"
   ]
  },
  {
   "cell_type": "markdown",
   "metadata": {},
   "source": [
    "__The roots of an equation task:__"
   ]
  },
  {
   "cell_type": "code",
   "execution_count": 50,
   "metadata": {},
   "outputs": [
    {
     "name": "stdin",
     "output_type": "stream",
     "text": [
      " 1 1 1 1\n"
     ]
    }
   ],
   "source": [
    "Scanner scanner = new Scanner(System.in);\n",
    "int a = scanner.nextInt();\n",
    "int b = scanner.nextInt();\n",
    "int c = scanner.nextInt();\n",
    "int d = scanner.nextInt();\n",
    "\n",
    "for(int x = 0; x <= 1000; x++) {\n",
    "    int expr = a*x*x*x + b*x*x + c*x + d;\n",
    "    if(expr == 0)\n",
    "        System.out.println(x);\n",
    "}"
   ]
  },
  {
   "cell_type": "markdown",
   "metadata": {},
   "source": [
    "__Lucky number task:__"
   ]
  },
  {
   "cell_type": "code",
   "execution_count": 58,
   "metadata": {},
   "outputs": [
    {
     "name": "stdin",
     "output_type": "stream",
     "text": [
      " 12344321\n"
     ]
    },
    {
     "name": "stdout",
     "output_type": "stream",
     "text": [
      "YES\n"
     ]
    }
   ],
   "source": [
    "Scanner scanner = new Scanner(System.in);\n",
    "String num = scanner.next();\n",
    "int digits = num.length();\n",
    "\n",
    "String p1 = num.substring(0, digits/2);\n",
    "String p2 = num.substring(digits/2);\n",
    "\n",
    "int sum1 = 0, sum2 = 0;\n",
    "\n",
    "for(int i = 0; i < p1.length(); i++) {\n",
    "    sum1 += p1.charAt(i) - '0';\n",
    "}\n",
    "\n",
    "for(int i = 0; i < p2.length(); i++) {\n",
    "    sum2 += p2.charAt(i) - '0';\n",
    "}\n",
    "\n",
    "if (sum1 == sum2) {\n",
    "    System.out.println(\"YES\");\n",
    "} else {\n",
    "    System.out.println(\"NO\");\n",
    "}"
   ]
  },
  {
   "cell_type": "markdown",
   "metadata": {},
   "source": [
    "## The while and do-while loops"
   ]
  },
  {
   "cell_type": "code",
   "execution_count": 59,
   "metadata": {},
   "outputs": [
    {
     "name": "stdout",
     "output_type": "stream",
     "text": [
      "0\n",
      "1\n",
      "2\n",
      "3\n",
      "4\n"
     ]
    }
   ],
   "source": [
    "int i = 0;\n",
    "while (i < 5) {\n",
    "    System.out.println(i);\n",
    "    i++;\n",
    "}"
   ]
  },
  {
   "cell_type": "code",
   "execution_count": 61,
   "metadata": {},
   "outputs": [
    {
     "name": "stdout",
     "output_type": "stream",
     "text": [
      "ABCDEFGHIJKLMNOPQRSTUVWXYZ"
     ]
    }
   ],
   "source": [
    "char letter = 'A';\n",
    "while (letter <= 'Z') {\n",
    "    System.out.print(letter);\n",
    "    letter++;\n",
    "}"
   ]
  },
  {
   "cell_type": "markdown",
   "metadata": {},
   "source": [
    "__The do-while loop__"
   ]
  },
  {
   "cell_type": "code",
   "execution_count": 63,
   "metadata": {},
   "outputs": [
    {
     "name": "stdin",
     "output_type": "stream",
     "text": [
      " 1 2 3 4 0 5\n"
     ]
    },
    {
     "name": "stdout",
     "output_type": "stream",
     "text": [
      "1\n",
      "2\n",
      "3\n",
      "4\n",
      "0\n"
     ]
    }
   ],
   "source": [
    "Scanner scanner = new Scanner(System.in);\n",
    "\n",
    "int value;\n",
    "do {\n",
    "    value = scanner.nextInt();\n",
    "    System.out.println(value);\n",
    "} while (value > 0);"
   ]
  },
  {
   "cell_type": "markdown",
   "metadata": {},
   "source": [
    "__The largest element of a sequence task:__"
   ]
  },
  {
   "cell_type": "code",
   "execution_count": 71,
   "metadata": {},
   "outputs": [
    {
     "name": "stdin",
     "output_type": "stream",
     "text": [
      " 0 1 2 5 4 8 6 \n"
     ]
    },
    {
     "name": "stdout",
     "output_type": "stream",
     "text": [
      "0\n"
     ]
    }
   ],
   "source": [
    "Scanner scanner = new Scanner(System.in);\n",
    "int max;\n",
    "int val;\n",
    "\n",
    "// First element\n",
    "max = val = scanner.nextInt();\n",
    "while (val != 0 ) {\n",
    "    if (val > max) {\n",
    "        max = val;\n",
    "    }\n",
    "    val = scanner.nextInt();\n",
    "}\n",
    "\n",
    "System.out.println(max);"
   ]
  },
  {
   "cell_type": "markdown",
   "metadata": {},
   "source": [
    "__The sequence - 1 task:__"
   ]
  },
  {
   "cell_type": "code",
   "execution_count": 72,
   "metadata": {},
   "outputs": [
    {
     "name": "stdin",
     "output_type": "stream",
     "text": [
      " 10 76 18 69 63 36 18 49 16 12 50\n"
     ]
    },
    {
     "name": "stdout",
     "output_type": "stream",
     "text": [
      "76\n"
     ]
    }
   ],
   "source": [
    "Scanner scanner = new Scanner(System.in);\n",
    "int num = scanner.nextInt();\n",
    "int maxIntDiv4 = 0;\n",
    "int currInt;\n",
    "for(int i = 0; i < num; i++) {\n",
    "    currInt = scanner.nextInt();\n",
    "    if((currInt % 4 == 0) && currInt > maxIntDiv4) {\n",
    "        maxIntDiv4 = currInt;\n",
    "    }\n",
    "}\n",
    "System.out.println(maxIntDiv4);"
   ]
  },
  {
   "cell_type": "markdown",
   "metadata": {},
   "source": [
    "__Profit task:__\n",
    "\n",
    "Ann put M money in the bank. The bank increases Ann's deposit by P percent every year. Ann wants to know how many years should pass until her deposit in the bank reaches K money. Can you help her to answer this question?"
   ]
  },
  {
   "cell_type": "code",
   "execution_count": 3,
   "metadata": {},
   "outputs": [
    {
     "name": "stdin",
     "output_type": "stream",
     "text": [
      " 100 15 120\n"
     ]
    },
    {
     "name": "stdout",
     "output_type": "stream",
     "text": [
      "2\n"
     ]
    }
   ],
   "source": [
    "Scanner scanner = new Scanner(System.in);\n",
    "double M = scanner.nextInt();\n",
    "double P = scanner.nextInt() / 100.0 + 1;\n",
    "double K = scanner.nextInt();\n",
    "\n",
    "int years = 0;\n",
    "\n",
    "while(M < K) {\n",
    "    M *= P;\n",
    "    years++;\n",
    "}\n",
    "\n",
    "System.out.println(years);"
   ]
  },
  {
   "cell_type": "markdown",
   "metadata": {},
   "source": [
    "## Branching statements"
   ]
  },
  {
   "cell_type": "markdown",
   "metadata": {},
   "source": [
    "__The break statement__"
   ]
  },
  {
   "cell_type": "code",
   "execution_count": 4,
   "metadata": {},
   "outputs": [],
   "source": [
    "int i = 10;\n",
    "while(true) { // the condition to continue the loop\n",
    "    if (i == 0) { // the condition to perform break that stops this loop \n",
    "        break;\n",
    "    }\n",
    "    i--;\n",
    "}"
   ]
  },
  {
   "cell_type": "code",
   "execution_count": 5,
   "metadata": {},
   "outputs": [
    {
     "name": "stdout",
     "output_type": "stream",
     "text": [
      "0 \n",
      "0 1 \n",
      "0 1 2 \n",
      "0 1 2 3 \n",
      "0 1 2 3 4 \n",
      "0 1 2 3 4 5 \n",
      "0 1 2 3 4 5 6 \n",
      "0 1 2 3 4 5 6 7 \n",
      "0 1 2 3 4 5 6 7 8 \n",
      "0 1 2 3 4 5 6 7 8 9 \n"
     ]
    }
   ],
   "source": [
    "for (int i = 0; i < 10; i++) {\n",
    "    for (int j = 0; j < 10; j++) {\n",
    "        System.out.print(j + \" \");\n",
    "        if (i == j) {\n",
    "            break;\n",
    "        }\n",
    "    }\n",
    "    System.out.println();\n",
    "}"
   ]
  },
  {
   "cell_type": "code",
   "execution_count": 6,
   "metadata": {},
   "outputs": [
    {
     "name": "stdout",
     "output_type": "stream",
     "text": [
      "0 \n"
     ]
    }
   ],
   "source": [
    "boolean stopped = false;\n",
    "for (int i = 0; (i < 10) && !stopped; i++) {\n",
    "    for (int j = 0; j < 10; j++) {\n",
    "        System.out.print(j + \" \");\n",
    "        if (i == j) {\n",
    "            stopped = true;\n",
    "            break;\n",
    "        }\n",
    "     }\n",
    "    System.out.println();\n",
    "}"
   ]
  },
  {
   "cell_type": "markdown",
   "metadata": {},
   "source": [
    "__The continue statement__"
   ]
  },
  {
   "cell_type": "markdown",
   "metadata": {},
   "source": [
    "* inside the __for-loop__, the continue causes control to immediately move to the increment/decrement statement;\n",
    "* inside the __while__ or __do-while loop__, control immediately moves to the condition."
   ]
  },
  {
   "cell_type": "code",
   "execution_count": 7,
   "metadata": {},
   "outputs": [
    {
     "name": "stdout",
     "output_type": "stream",
     "text": [
      "0 2 4 6 8 "
     ]
    }
   ],
   "source": [
    "int n = 10;\n",
    "for (int i = 0; i < n; i++) {\n",
    "    if (i % 2 != 0) {\n",
    "        continue;\n",
    "    }\n",
    "    System.out.print(i + \" \");\n",
    "}"
   ]
  },
  {
   "cell_type": "code",
   "execution_count": 8,
   "metadata": {},
   "outputs": [
    {
     "name": "stdout",
     "output_type": "stream",
     "text": [
      "0 2 4 6 8 "
     ]
    }
   ],
   "source": [
    "int n = 10;\n",
    "for (int i = 0; i < n; i++) { \n",
    "    if (i % 2 == 0) {\n",
    "        System.out.print(i + \" \");\n",
    "    } \n",
    "}\n"
   ]
  },
  {
   "cell_type": "code",
   "execution_count": 11,
   "metadata": {},
   "outputs": [
    {
     "name": "stdout",
     "output_type": "stream",
     "text": [
      "0 1 2 3 0 1 2 3 4 4 0 1 2 3 4 "
     ]
    }
   ],
   "source": [
    "for (int i = 0; i < 5; i++) {\n",
    "    System.out.print(i + \" \");\n",
    "    if (i < 3) {\n",
    "        continue;\n",
    "    } else {\n",
    "        for (int j = 0; j < 5; j++) {\n",
    "            System.out.print(j + \" \");\n",
    "        }\n",
    "    }        \n",
    "}"
   ]
  },
  {
   "cell_type": "markdown",
   "metadata": {},
   "source": [
    "Given a sequence of natural numbers. For each number of the sequence output \"even\" if the number is even, otherwise, \"odd\". If the number is equal to 0, the program must stop reading and processing numbers."
   ]
  },
  {
   "cell_type": "code",
   "execution_count": 17,
   "metadata": {},
   "outputs": [
    {
     "name": "stdin",
     "output_type": "stream",
     "text": [
      " 1 5 9 8 5 6 2 0\n"
     ]
    },
    {
     "name": "stdout",
     "output_type": "stream",
     "text": [
      "odd\n",
      "odd\n",
      "odd\n",
      "even\n",
      "odd\n",
      "even\n",
      "even\n"
     ]
    }
   ],
   "source": [
    "Scanner scanner = new Scanner(System.in);\n",
    "int curr;\n",
    "while ((curr = scanner.nextInt()) != 0) {\n",
    "    if(curr % 2 == 0) {\n",
    "        System.out.println(\"even\");\n",
    "    } else {\n",
    "        System.out.println(\"odd\");\n",
    "    }\n",
    "}"
   ]
  },
  {
   "cell_type": "markdown",
   "metadata": {},
   "source": [
    "__Integer barrier task:__"
   ]
  },
  {
   "cell_type": "code",
   "execution_count": 21,
   "metadata": {},
   "outputs": [
    {
     "name": "stdin",
     "output_type": "stream",
     "text": [
      " 103 105 109 0 1000\n"
     ]
    },
    {
     "name": "stdout",
     "output_type": "stream",
     "text": [
      "317\n"
     ]
    }
   ],
   "source": [
    "Scanner scanner = new Scanner(System.in);\n",
    "int sum = 0, barrier = 1000;\n",
    "int curr;\n",
    "while((curr = scanner.nextInt()) != 0) {\n",
    "    sum += curr;\n",
    "    if (sum >= barrier) {\n",
    "        sum -= 1000;\n",
    "        break;\n",
    "    }\n",
    "}\n",
    "System.out.println(sum);"
   ]
  },
  {
   "cell_type": "markdown",
   "metadata": {},
   "source": [
    "__The (un)-ordered sequence task:__"
   ]
  },
  {
   "cell_type": "code",
   "execution_count": 3,
   "metadata": {},
   "outputs": [
    {
     "name": "stdin",
     "output_type": "stream",
     "text": [
      " 1 2 5 5 2 3 0\n"
     ]
    },
    {
     "name": "stdout",
     "output_type": "stream",
     "text": [
      "false\n"
     ]
    }
   ],
   "source": [
    "Scanner scanner = new Scanner(System.in);\n",
    "int prev, curr;\n",
    "boolean isDesc = true;\n",
    "boolean isAsc = true;\n",
    "\n",
    "prev = scanner.nextInt();\n",
    "while((curr = scanner.nextInt()) != 0) {\n",
    "    if(prev > curr) {\n",
    "        isAsc = false;\n",
    "    } \n",
    "    \n",
    "    if(prev < curr) {\n",
    "        isDesc = false;\n",
    "    }\n",
    "    \n",
    "    prev = curr;\n",
    "}\n",
    "\n",
    "System.out.println(isDesc || isAsc);"
   ]
  },
  {
   "cell_type": "markdown",
   "metadata": {},
   "source": [
    "## Defining methods"
   ]
  },
  {
   "cell_type": "markdown",
   "metadata": {},
   "source": [
    "Generally, a method has the following six components:\n",
    "1. a name;\n",
    "2. a set of modifiers (public, static, etc)\n",
    "3. a type of the return value;\n",
    "4. a list of parameters (as well known as formal parameters) in parenthesis ();\n",
    "5. a list of exceptions;\n",
    "6. a body containing statements to perform the operation."
   ]
  },
  {
   "cell_type": "code",
   "execution_count": 4,
   "metadata": {},
   "outputs": [],
   "source": [
    "public static int sum(int a, int b) {\n",
    "    return a + b;\n",
    "}"
   ]
  },
  {
   "cell_type": "code",
   "execution_count": 5,
   "metadata": {},
   "outputs": [
    {
     "data": {
      "text/plain": [
       "11"
      ]
     },
     "execution_count": 5,
     "metadata": {},
     "output_type": "execute_result"
    }
   ],
   "source": [
    "sum(5, 6);"
   ]
  },
  {
   "cell_type": "markdown",
   "metadata": {},
   "source": [
    "The combination of the name of a method and its parameters is called the __signature__.\n"
   ]
  },
  {
   "cell_type": "markdown",
   "metadata": {},
   "source": [
    "Here are some examples of other signatures:\n",
    "* sum(double, double)\n",
    "* min(long, long, long)\n",
    "* getValue()"
   ]
  },
  {
   "cell_type": "code",
   "execution_count": 6,
   "metadata": {},
   "outputs": [],
   "source": [
    "/**\n",
    " * The method has an int parameter\n",
    " */\n",
    "public static void method1(int a) {\n",
    "    // do something\n",
    "}\n",
    "    \n",
    "/**\n",
    " * The method has long and double parameters\n",
    " */\n",
    "public static void method2(long a, double b) {\n",
    "    // do something\n",
    "}\n",
    "    \n",
    "/**\n",
    " * The method has no any parameters and returns a value\n",
    " */ \n",
    "public static int method3() {\n",
    "    return 3;\n",
    "}"
   ]
  },
  {
   "cell_type": "code",
   "execution_count": 7,
   "metadata": {},
   "outputs": [],
   "source": [
    "public static int divideBy2(int number, int times) {\n",
    "    if (times <= 0) {\n",
    "        return number;\n",
    "    }\n",
    "        \n",
    "    for (int i = 0; i < times; i++) {\n",
    "        number /= 2;\n",
    "    }\n",
    "        \n",
    "    return number;\n",
    "}"
   ]
  },
  {
   "cell_type": "code",
   "execution_count": 8,
   "metadata": {},
   "outputs": [],
   "source": [
    "public static void returnNothingOrPrintNumbers(int a, int b) {\n",
    "    if (a <= 0 || b <= 0) {\n",
    "        return;\n",
    "    }\n",
    "\n",
    "    System.out.println(a + \" \" + b);\n",
    "}"
   ]
  },
  {
   "cell_type": "code",
   "execution_count": null,
   "metadata": {},
   "outputs": [],
   "source": []
  }
 ],
 "metadata": {
  "kernelspec": {
   "display_name": "Java",
   "language": "java",
   "name": "java"
  },
  "language_info": {
   "codemirror_mode": "java",
   "file_extension": ".java",
   "mimetype": "text/x-java-source",
   "name": "Java",
   "pygments_lexer": "java",
   "version": "11.0.1+13-LTS"
  }
 },
 "nbformat": 4,
 "nbformat_minor": 2
}
