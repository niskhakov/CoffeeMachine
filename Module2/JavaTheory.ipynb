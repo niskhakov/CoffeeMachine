{
 "cells": [
  {
   "cell_type": "code",
   "execution_count": 1,
   "metadata": {},
   "outputs": [],
   "source": [
    "int two = 2;\n",
    "int ten = 10;\n",
    "\n",
    "int twelve = two + ten; // 12\n",
    "int eight = ten - two;  // 8\n",
    "int twenty = two * ten; // 20\n",
    "int five = ten / two;   // 5\n",
    "int zero = ten % two;   // 0, no remainder\n",
    "\n",
    "int minusTwo = -two; // -2"
   ]
  },
  {
   "cell_type": "code",
   "execution_count": 6,
   "metadata": {},
   "outputs": [
    {
     "data": {
      "text/plain": [
       "-2"
      ]
     },
     "execution_count": 6,
     "metadata": {},
     "output_type": "execute_result"
    }
   ],
   "source": [
    "minusTwo\n"
   ]
  },
  {
   "cell_type": "code",
   "execution_count": 8,
   "metadata": {},
   "outputs": [],
   "source": [
    "import java.util.Scanner;"
   ]
  },
  {
   "cell_type": "code",
   "execution_count": 9,
   "metadata": {},
   "outputs": [],
   "source": [
    "Scanner scanner = new Scanner(System.in);\n"
   ]
  },
  {
   "cell_type": "code",
   "execution_count": 10,
   "metadata": {},
   "outputs": [
    {
     "name": "stdin",
     "output_type": "stream",
     "text": [
      " 15\n"
     ]
    }
   ],
   "source": [
    "int num = scanner.nextInt()"
   ]
  },
  {
   "cell_type": "code",
   "execution_count": 11,
   "metadata": {},
   "outputs": [],
   "source": [
    "int million = 1_000_000;\n"
   ]
  },
  {
   "cell_type": "code",
   "execution_count": 12,
   "metadata": {},
   "outputs": [
    {
     "name": "stdout",
     "output_type": "stream",
     "text": [
      "100000000021\n"
     ]
    }
   ],
   "source": [
    "long one = 1L;\n",
    "long twenty = 22L; // L or l is a literal for longs\n",
    "long bigNumber = 100_000_000_000L;\n",
    "\n",
    "long result = bigNumber + twenty - one; \n",
    "System.out.println(result); // 100000000021"
   ]
  }
 ],
 "metadata": {
  "kernelspec": {
   "display_name": "Java",
   "language": "java",
   "name": "java"
  },
  "language_info": {
   "codemirror_mode": "java",
   "file_extension": ".java",
   "mimetype": "text/x-java-source",
   "name": "Java",
   "pygments_lexer": "java",
   "version": "11.0.1+13-LTS"
  }
 },
 "nbformat": 4,
 "nbformat_minor": 2
}
