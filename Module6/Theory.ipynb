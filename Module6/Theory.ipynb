{
 "cells": [
  {
   "cell_type": "markdown",
   "metadata": {},
   "source": [
    "## Characters"
   ]
  },
  {
   "cell_type": "code",
   "execution_count": 1,
   "metadata": {},
   "outputs": [],
   "source": [
    "char lowerCaseLetter = 'a';\n",
    "char upperCaseLetter = 'Q';\n",
    "char number = '1';\n",
    "char space = ' ';\n",
    "char dollar = '$';"
   ]
  },
  {
   "cell_type": "code",
   "execution_count": 2,
   "metadata": {},
   "outputs": [
    {
     "name": "stdout",
     "output_type": "stream",
     "text": [
      "@\n"
     ]
    }
   ],
   "source": [
    "char ch = '\\u0040'; // it represents '@'\n",
    "System.out.println(ch); // @"
   ]
  },
  {
   "cell_type": "code",
   "execution_count": 3,
   "metadata": {},
   "outputs": [
    {
     "name": "stdout",
     "output_type": "stream",
     "text": [
      "@\n"
     ]
    }
   ],
   "source": [
    "char ch = 64;\n",
    "System.out.println(ch); // @"
   ]
  },
  {
   "cell_type": "code",
   "execution_count": 4,
   "metadata": {},
   "outputs": [
    {
     "data": {
      "text/plain": [
       "a"
      ]
     },
     "execution_count": 4,
     "metadata": {},
     "output_type": "execute_result"
    }
   ],
   "source": [
    "char ch = 'b';\n",
    "ch += 1; // 'c'\n",
    "ch -= 2; // 'a'"
   ]
  },
  {
   "cell_type": "code",
   "execution_count": 6,
   "metadata": {},
   "outputs": [
    {
     "name": "stdout",
     "output_type": "stream",
     "text": [
      "K\n",
      "L\n",
      "M\n",
      "L\n"
     ]
    }
   ],
   "source": [
    "char ch = 'A';\n",
    "ch += 10;\n",
    "System.out.println(ch);   // 'K'\n",
    "System.out.println(++ch); // 'L'\n",
    "System.out.println(++ch); // 'M'\n",
    "System.out.println(--ch); // 'L'"
   ]
  },
  {
   "cell_type": "markdown",
   "metadata": {},
   "source": [
    "__Escape sequences:__\n",
    "\n",
    "* '\\n' is the newline character;\n",
    "* '\\t' is the tab character;\n",
    "* '\\r' is the carriage return character;\n",
    "* '\\\\' is the backslash character itself;\n",
    "* '\\'' is the single quote mark;\n",
    "* '\\\"' is the double quote mark."
   ]
  },
  {
   "cell_type": "markdown",
   "metadata": {},
   "source": [
    "## String"
   ]
  },
  {
   "cell_type": "code",
   "execution_count": 7,
   "metadata": {},
   "outputs": [
    {
     "name": "stdout",
     "output_type": "stream",
     "text": [
      "It is a simple string\n",
      "This is\n",
      "a multiple\n",
      "string\n"
     ]
    }
   ],
   "source": [
    "String simpleString = \"It is a simple string\"; // a simple string\n",
    "System.out.println(simpleString);  // it prints \"It is a simple string\"\n",
    "\n",
    "String anotherString = \"This is\\na multiple\\nstring\"; // a string with escape sequences\n",
    "System.out.println(anotherString); // it prints the result is several lines"
   ]
  },
  {
   "cell_type": "code",
   "execution_count": 8,
   "metadata": {},
   "outputs": [],
   "source": [
    "String strangeText = \"aaaaaaaaaaaassssssssssss gggggggggggggggggggg ddddddddddd qqqqqq ffff\";\n",
    "\n",
    "String emptyString = \"\";\n",
    "\n",
    "String s = \"s\"; // a string consisting of one character"
   ]
  },
  {
   "cell_type": "code",
   "execution_count": 9,
   "metadata": {},
   "outputs": [],
   "source": [
    "String nullString = null; // it is null - no value assigned"
   ]
  },
  {
   "cell_type": "code",
   "execution_count": 10,
   "metadata": {},
   "outputs": [],
   "source": [
    "String str = new String(\"my-string\"); // it creates an object and assigns it to the variable"
   ]
  },
  {
   "cell_type": "markdown",
   "metadata": {},
   "source": [
    "__Useful methods:__\n",
    "\n",
    "* length() returns the number of characters in the string;\n",
    "* charAt(index) returns a character by its index;\n",
    "* isEmpty() returns true if the string is empty, otherwise - false;\n",
    "* toUpperCase() returns a new string in uppercase;\n",
    "* toLowerCase() returns a new string in lowercase;\n",
    "* startsWith(prefix) returns true if the string is start with the given string prefix, otherwise - false;\n",
    "* contains(...) returns true if the string contains the given string or character;\n",
    "* substring(beginIndex, endIndex) returns a substring of the string in the range: beginIndex, endIndex - 1;\n",
    "* replace(old, new) returns a new string obtained by replacing all occurrences of old with new that can be chars or strings."
   ]
  },
  {
   "cell_type": "code",
   "execution_count": 12,
   "metadata": {},
   "outputs": [],
   "source": [
    "String s = \"Hi, all\";\n",
    "\n",
    "int len = s.length(); // the len is 7\n",
    "\n",
    "char theFirstChar = s.charAt(0);  // 'H' has the index 0\n",
    "\n",
    "char theFifthChar = s.charAt(4); // 'a' has the index 4\n",
    "\n",
    "char theLastChar = s.charAt(s.length() - 1); // 'l' has the index 6"
   ]
  },
  {
   "cell_type": "code",
   "execution_count": 13,
   "metadata": {},
   "outputs": [],
   "source": [
    "String text = \"The simple text string\";\n",
    "\n",
    "boolean empty = text.isEmpty(); // false\n",
    "\n",
    "String textInUpperCase = text.toUpperCase(); // \"THE SIMPLE TEXT STRING\"\n",
    "\n",
    "boolean startsWith = textInUpperCase.startsWith(\"THE\"); // true\n",
    "\n",
    "/* replace all whitespaces with empty strings */\n",
    "String noWhitespaces = textInUpperCase.replace(\" \", \"\"); // \"THESIMPLETEXTSTRING\""
   ]
  },
  {
   "cell_type": "markdown",
   "metadata": {},
   "source": [
    "__Exceptions when processing strings:__"
   ]
  },
  {
   "cell_type": "markdown",
   "metadata": {},
   "source": [
    "1. __NullPointerException.__ If a string is null and you call a method of the string, it throws NullPointerException.\n",
    "2. __StringIndexOutOfBoundsException.__ If you try to access a non-existing character by an index then this exception occurs."
   ]
  },
  {
   "cell_type": "code",
   "execution_count": 15,
   "metadata": {},
   "outputs": [
    {
     "ename": "EvalException",
     "evalue": "null",
     "output_type": "error",
     "traceback": [
      "\u001b[1m\u001b[31m---------------------------------------------------------------------------\u001b[0m",
      "\u001b[1m\u001b[31mjava.lang.NullPointerException: null\u001b[0m",
      "\u001b[1m\u001b[31m\tat .(#54:1)\u001b[0m"
     ]
    }
   ],
   "source": [
    "String s = null;\n",
    "int length = s.length(); // it throws NullPointerException"
   ]
  },
  {
   "cell_type": "code",
   "execution_count": 16,
   "metadata": {},
   "outputs": [
    {
     "ename": "EvalException",
     "evalue": "String index out of range: 2",
     "output_type": "error",
     "traceback": [
      "\u001b[1m\u001b[31m---------------------------------------------------------------------------\u001b[0m",
      "\u001b[1m\u001b[31mjava.lang.StringIndexOutOfBoundsException: String index out of range: 2\u001b[0m",
      "\u001b[1m\u001b[31m\tat java.base/java.lang.StringLatin1.charAt(StringLatin1.java:47)\u001b[0m",
      "\u001b[1m\u001b[31m\tat java.base/java.lang.String.charAt(String.java:693)\u001b[0m",
      "\u001b[1m\u001b[31m\tat .(#55:1)\u001b[0m"
     ]
    }
   ],
   "source": [
    "String s = \"ab\";\n",
    "char c = s.charAt(2); // it throws StringIndexOutOfBoundsException because indexing starts with 0"
   ]
  },
  {
   "cell_type": "markdown",
   "metadata": {},
   "source": [
    "__Concatenating strings:__"
   ]
  },
  {
   "cell_type": "code",
   "execution_count": 17,
   "metadata": {},
   "outputs": [],
   "source": [
    "String firstName = \"John\";\n",
    "String lastName = \"Smith\";\n",
    "\n",
    "// concatenation using the \"+\" operator\n",
    "String fullName1 = firstName + \" \" + lastName; // \"John Smith\"\n",
    "\n",
    "// concatenation using the concat method \n",
    "String fullName2 = firstName.concat(\" \").concat(lastName); // \"John Smith\""
   ]
  },
  {
   "cell_type": "markdown",
   "metadata": {},
   "source": [
    "__Appending values to a string:__"
   ]
  },
  {
   "cell_type": "code",
   "execution_count": 18,
   "metadata": {},
   "outputs": [],
   "source": [
    "String str = \"str\" + 10 + false; // the result is \"str10false\""
   ]
  },
  {
   "cell_type": "code",
   "execution_count": 19,
   "metadata": {},
   "outputs": [],
   "source": [
    "String shortString = \"str\";\n",
    "long number = 100;\n",
    "\n",
    "String result1 = shortString + number + 50; // the result is \"str10050\"\n",
    "String result2 = number + 50 + shortString; // what is the result2?"
   ]
  },
  {
   "cell_type": "markdown",
   "metadata": {},
   "source": [
    "__How to compare strings correctly?__"
   ]
  },
  {
   "cell_type": "markdown",
   "metadata": {},
   "source": [
    "Since String is a reference type you shouldn't compare strings using \"==\" or \"!=\" operators. In these case, only addresses will be compared, but not actual values."
   ]
  },
  {
   "cell_type": "code",
   "execution_count": 20,
   "metadata": {},
   "outputs": [
    {
     "name": "stdout",
     "output_type": "stream",
     "text": [
      "false\n",
      "true\n",
      "false\n",
      "true\n"
     ]
    }
   ],
   "source": [
    "String first = \"first\";\n",
    "String second = \"second\";\n",
    "\n",
    "String anotherFirst = \"first\";\n",
    "String secondInUpperCase = \"SECOND\";\n",
    "\n",
    "System.out.println(first.equals(second)); // false, the strings have different values\n",
    "System.out.println(first.equals(anotherFirst)); // true, the strings have the same value\n",
    "\n",
    "System.out.println(second.equals(secondInUpperCase)); // false, the strings have different cases\n",
    "System.out.println(second.equalsIgnoreCase(secondInUpperCase)); // true, it ignores cases "
   ]
  },
  {
   "cell_type": "markdown",
   "metadata": {},
   "source": [
    "__Replacing 'a' with 'b' task:__"
   ]
  },
  {
   "cell_type": "code",
   "execution_count": 21,
   "metadata": {},
   "outputs": [],
   "source": [
    "import java.util.Scanner;"
   ]
  },
  {
   "cell_type": "code",
   "execution_count": 23,
   "metadata": {},
   "outputs": [
    {
     "name": "stdin",
     "output_type": "stream",
     "text": [
      " abbbscbaaaa\n"
     ]
    },
    {
     "name": "stdout",
     "output_type": "stream",
     "text": [
      "bbbbscbbbbb\n"
     ]
    }
   ],
   "source": [
    "Scanner scanner = new Scanner(System.in);\n",
    "String str = scanner.next();\n",
    "System.out.println(str.replaceAll(\"a\", \"b\"));"
   ]
  },
  {
   "cell_type": "markdown",
   "metadata": {},
   "source": [
    "__Extracting a substring task:__"
   ]
  },
  {
   "cell_type": "code",
   "execution_count": 27,
   "metadata": {},
   "outputs": [
    {
     "name": "stdin",
     "output_type": "stream",
     "text": [
      " Omae Wa Mou Shindeiru\n",
      " 0 15\n"
     ]
    },
    {
     "name": "stdout",
     "output_type": "stream",
     "text": [
      "Omae Wa Mou Shin\n"
     ]
    }
   ],
   "source": [
    "Scanner scanner = new Scanner(System.in);\n",
    "String str = scanner.nextLine();\n",
    "int beginIndex = scanner.nextInt();\n",
    "int endIndex = scanner.nextInt();\n",
    "\n",
    "System.out.println(str.substring(beginIndex, endIndex+1));"
   ]
  },
  {
   "cell_type": "markdown",
   "metadata": {},
   "source": [
    "__Comparing strings ignoring whitespaces task:__"
   ]
  },
  {
   "cell_type": "code",
   "execution_count": 29,
   "metadata": {},
   "outputs": [
    {
     "name": "stdin",
     "output_type": "stream",
     "text": [
      " string\n",
      " my string\n"
     ]
    },
    {
     "name": "stdout",
     "output_type": "stream",
     "text": [
      "false\n"
     ]
    }
   ],
   "source": [
    "Scanner scanner = new Scanner(System.in);\n",
    "String str1 = scanner.nextLine().replaceAll(\" \", \"\");\n",
    "String str2 = scanner.nextLine().replaceAll(\" \", \"\");\n",
    "System.out.println(str1.equals(str2));"
   ]
  },
  {
   "cell_type": "markdown",
   "metadata": {},
   "source": [
    "## Defining classes"
   ]
  },
  {
   "cell_type": "code",
   "execution_count": 1,
   "metadata": {},
   "outputs": [],
   "source": [
    "class Nothing {\n",
    "    // empty body\n",
    "}"
   ]
  },
  {
   "cell_type": "code",
   "execution_count": 2,
   "metadata": {},
   "outputs": [],
   "source": [
    "/**\n",
    " * The class is a \"blueprint\" patients\n",
    " */\n",
    "class Patient {\n",
    "\n",
    "    String name;\n",
    "    int age;\n",
    "    float height;\n",
    "}"
   ]
  },
  {
   "cell_type": "code",
   "execution_count": 3,
   "metadata": {},
   "outputs": [
    {
     "name": "stdout",
     "output_type": "stream",
     "text": [
      "null\n",
      "0\n"
     ]
    }
   ],
   "source": [
    "Patient patient = new Patient();\n",
    "System.out.println(patient.name); // it prints null\n",
    "System.out.println(patient.age); // it prints 0"
   ]
  },
  {
   "cell_type": "code",
   "execution_count": 4,
   "metadata": {},
   "outputs": [
    {
     "name": "stdout",
     "output_type": "stream",
     "text": [
      "John 30 180.0\n",
      "Alice 22 165.0\n"
     ]
    }
   ],
   "source": [
    "Patient john = new Patient();\n",
    "        \n",
    "john.name = \"John\";\n",
    "john.age = 30;\n",
    "john.height = 180;\n",
    "\n",
    "System.out.println(john.name + \" \" + john.age + \" \" + john.height);\n",
    "\n",
    "Patient alice = new Patient();\n",
    "\n",
    "alice.name = \"Alice\";\n",
    "alice.age = 22;\n",
    "alice.height = 165;\n",
    "\n",
    "System.out.println(alice.name + \" \" + alice.age + \" \" + alice.height);"
   ]
  },
  {
   "cell_type": "markdown",
   "metadata": {},
   "source": [
    "__Complex numbers task:__"
   ]
  },
  {
   "cell_type": "code",
   "execution_count": 5,
   "metadata": {},
   "outputs": [],
   "source": [
    "class Complex {\n",
    "    double real;\n",
    "    double image;\n",
    "}"
   ]
  },
  {
   "cell_type": "markdown",
   "metadata": {},
   "source": [
    "__Books task:__"
   ]
  },
  {
   "cell_type": "code",
   "execution_count": 6,
   "metadata": {},
   "outputs": [],
   "source": [
    "class Book {\n",
    "    String title;\n",
    "    int yearOfPublishing;\n",
    "    String[] authors;\n",
    "}"
   ]
  },
  {
   "cell_type": "markdown",
   "metadata": {},
   "source": [
    "__Inner boxes task:__"
   ]
  },
  {
   "cell_type": "code",
   "execution_count": 7,
   "metadata": {},
   "outputs": [],
   "source": [
    "class Box {\n",
    "    double length;\n",
    "    double height;\n",
    "    double width;\n",
    "    Box innerBox;\n",
    "}"
   ]
  },
  {
   "cell_type": "markdown",
   "metadata": {},
   "source": [
    "## Constructor"
   ]
  },
  {
   "cell_type": "code",
   "execution_count": 11,
   "metadata": {},
   "outputs": [],
   "source": [
    "class Patient {\n",
    "\n",
    "    String name;\n",
    "    int age;\n",
    "    float height;\n",
    "\n",
    "    public Patient(String name, int age, float height) {\n",
    "        this.name = name;\n",
    "        this.age = age;\n",
    "        this.height = height;\n",
    "    }\n",
    "}\n"
   ]
  },
  {
   "cell_type": "code",
   "execution_count": 12,
   "metadata": {},
   "outputs": [],
   "source": [
    "Patient patient1 = new Patient(\"Heinrich\", 40, 182.0f);\n",
    "Patient patient2 = new Patient(\"Mary\", 33, 171.5f);"
   ]
  },
  {
   "cell_type": "code",
   "execution_count": 13,
   "metadata": {},
   "outputs": [],
   "source": [
    "class Patient {\n",
    "\n",
    "    String name;\n",
    "    int age;\n",
    "    float height;\n",
    "\n",
    "    public Patient() {\n",
    "        this.name = \"Unknown\"; // sometimes, it may be better than null as the default value\n",
    "    }\n",
    "}"
   ]
  },
  {
   "cell_type": "markdown",
   "metadata": {},
   "source": [
    "__User task:__"
   ]
  },
  {
   "cell_type": "code",
   "execution_count": 14,
   "metadata": {},
   "outputs": [],
   "source": [
    "class User {\n",
    "    String login;\n",
    "    String firstName;\n",
    "    String lastName;\n",
    "    \n",
    "    public User(String login, String firstName, String lastName) {\n",
    "        this.login = login;\n",
    "        this.firstName = firstName;\n",
    "        this.lastName = lastName;\n",
    "    }\n",
    "}"
   ]
  },
  {
   "cell_type": "markdown",
   "metadata": {},
   "source": [
    "__Account task:__"
   ]
  },
  {
   "cell_type": "code",
   "execution_count": 16,
   "metadata": {},
   "outputs": [],
   "source": [
    "class Account {\n",
    "    long balance;\n",
    "    String ownerName;\n",
    "    boolean locked;\n",
    "    \n",
    "    public Account(long balance, String ownerName, boolean locked) {\n",
    "        this.balance = balance;\n",
    "        this.ownerName = ownerName;\n",
    "        this.locked = locked;\n",
    "    }\n",
    "}"
   ]
  },
  {
   "cell_type": "markdown",
   "metadata": {},
   "source": [
    "## Instance methods"
   ]
  },
  {
   "cell_type": "code",
   "execution_count": 17,
   "metadata": {},
   "outputs": [],
   "source": [
    "class MyClass {\n",
    "\n",
    "    public void print() {\n",
    "        System.out.println(\"method\");\n",
    "    }\n",
    "}"
   ]
  },
  {
   "cell_type": "code",
   "execution_count": 18,
   "metadata": {},
   "outputs": [],
   "source": [
    "class MyClass {\n",
    "\n",
    "    int field;\n",
    "\n",
    "    public void print() {\n",
    "        System.out.println(this.field);\n",
    "    }\n",
    "}\n"
   ]
  },
  {
   "cell_type": "code",
   "execution_count": 19,
   "metadata": {},
   "outputs": [
    {
     "name": "stdout",
     "output_type": "stream",
     "text": [
      "10\n"
     ]
    }
   ],
   "source": [
    "MyClass object = new MyClass();\n",
    "object.field = 10;\n",
    "\n",
    "object.print(); // prints \"10\""
   ]
  },
  {
   "cell_type": "code",
   "execution_count": 20,
   "metadata": {},
   "outputs": [],
   "source": [
    "/**\n",
    " * The class is a \"blueprint\" for cats\n",
    " */\n",
    "class Cat {\n",
    "\n",
    "    String name; // the cat's name\n",
    "    boolean sleeping; // the current state of the cat (by default - false)\n",
    "\n",
    "    /**\n",
    "     * The cat say \"meow\" if he is not sleeping, otherwise - \"zzz\".\n",
    "     * When a cat say \"meow\" he can sometimes fall asleep.\n",
    "     */\n",
    "    public void say() {\n",
    "        if (sleeping) {\n",
    "            System.out.println(\"zzz\");\n",
    "        } else {\n",
    "            System.out.println(\"meow\");\n",
    "\n",
    "            if (Math.random() > 0.5) {\n",
    "                sleeping = true;\n",
    "            }\n",
    "        }\n",
    "    }\n",
    "\n",
    "    /**\n",
    "     * The method wakes the cat\n",
    "     */\n",
    "    public void wakeUp() {\n",
    "        sleeping = false;\n",
    "    }\n",
    "}"
   ]
  },
  {
   "cell_type": "code",
   "execution_count": 21,
   "metadata": {},
   "outputs": [
    {
     "name": "stdout",
     "output_type": "stream",
     "text": [
      "meow\n",
      "zzz\n",
      "zzz\n",
      "zzz\n",
      "zzz\n",
      "meow\n"
     ]
    }
   ],
   "source": [
    "Cat pharaoh = new Cat(); // an instance named \"pharaoh\"\n",
    "pharaoh.name = \"pharaoh\";\n",
    "\n",
    "for (int i = 0; i < 5; i++) {\n",
    "    pharaoh.say(); // it says \"meow\" or \"zzz\"\n",
    "}\n",
    "\n",
    "pharaoh.wakeUp(); // invoking the instance method\n",
    "\n",
    "pharaoh.say();"
   ]
  },
  {
   "cell_type": "markdown",
   "metadata": {},
   "source": [
    "__Counter task:__"
   ]
  },
  {
   "cell_type": "code",
   "execution_count": 22,
   "metadata": {},
   "outputs": [],
   "source": [
    "class Counter {\n",
    "\n",
    "    int current;\n",
    "\n",
    "    void inc() {\n",
    "        current++;\n",
    "    }\n",
    "    \n",
    "    int getCurrent() {\n",
    "        return current;\n",
    "    }\n",
    "}"
   ]
  },
  {
   "cell_type": "markdown",
   "metadata": {},
   "source": [
    "__Length and area of a circle task:__"
   ]
  },
  {
   "cell_type": "code",
   "execution_count": 23,
   "metadata": {},
   "outputs": [],
   "source": [
    "class Circle {\n",
    "\n",
    "    double radius;\n",
    "\n",
    "    public double getLength() {\n",
    "        return 2*Math.PI*radius;\n",
    "    }\n",
    "    \n",
    "    public double getArea() {\n",
    "        return Math.PI * radius * radius;\n",
    "    }\n",
    "}"
   ]
  },
  {
   "cell_type": "markdown",
   "metadata": {},
   "source": [
    "__Application as a class task:__"
   ]
  },
  {
   "cell_type": "code",
   "execution_count": 25,
   "metadata": {},
   "outputs": [],
   "source": [
    "class Application {\n",
    "\n",
    "    String name;\n",
    "\n",
    "    public void run(String[] arr) {\n",
    "        System.out.println(name);\n",
    "        for(int i = 0; i < arr.length; i++) {\n",
    "            System.out.println(arr[i]);\n",
    "        }\n",
    "    }\n",
    "}"
   ]
  },
  {
   "cell_type": "markdown",
   "metadata": {},
   "source": [
    "## Enum"
   ]
  },
  {
   "cell_type": "code",
   "execution_count": 1,
   "metadata": {},
   "outputs": [],
   "source": [
    "public enum Season {\n",
    "    SPRING, SUMMER, AUTUMN, WINTER\n",
    "}"
   ]
  },
  {
   "cell_type": "code",
   "execution_count": 2,
   "metadata": {},
   "outputs": [],
   "source": [
    "Season summer = Season.SUMMER; // SUMMER\n",
    "Season autumn = Season.AUTUMN; // AUTUMN"
   ]
  },
  {
   "cell_type": "markdown",
   "metadata": {},
   "source": [
    "Correct comparison with == and equals:"
   ]
  },
  {
   "cell_type": "code",
   "execution_count": 3,
   "metadata": {},
   "outputs": [
    {
     "name": "stdout",
     "output_type": "stream",
     "text": [
      "true\n",
      "true\n",
      "true\n",
      "true\n",
      "false\n",
      "false\n"
     ]
    }
   ],
   "source": [
    "System.out.println(summer.equals(Season.SUMMER)); // true\n",
    "System.out.println(summer == Season.SUMMER); // true\n",
    "\n",
    "System.out.println(autumn.equals(Season.AUTUMN)); // true\n",
    "System.out.println(autumn == Season.AUTUMN); // true\n",
    "\n",
    "System.out.println(summer.equals(autumn)); // false\n",
    "System.out.println(summer == autumn);      // false"
   ]
  },
  {
   "cell_type": "markdown",
   "metadata": {},
   "source": [
    "All enum constants in array:"
   ]
  },
  {
   "cell_type": "code",
   "execution_count": 4,
   "metadata": {},
   "outputs": [],
   "source": [
    "Season[] seasons = Season.values(); // [SPRING, SUMMER, AUTUMN, WINTER]"
   ]
  },
  {
   "cell_type": "markdown",
   "metadata": {},
   "source": [
    "Initialize a variale from a String (case sensitive):"
   ]
  },
  {
   "cell_type": "code",
   "execution_count": 5,
   "metadata": {},
   "outputs": [],
   "source": [
    "Season season = Season.valueOf(\"AUTUMN\"); // AUTUMN"
   ]
  },
  {
   "cell_type": "code",
   "execution_count": 6,
   "metadata": {},
   "outputs": [
    {
     "ename": "EvalException",
     "evalue": "No enum constant REPL.$JShell$18.Season.winter",
     "output_type": "error",
     "traceback": [
      "\u001b[1m\u001b[31m---------------------------------------------------------------------------\u001b[0m",
      "\u001b[1m\u001b[31mjava.lang.IllegalArgumentException: No enum constant REPL.$JShell$18.Season.winter\u001b[0m",
      "\u001b[1m\u001b[31m\tat java.base/java.lang.Enum.valueOf(Enum.java:240)\u001b[0m",
      "\u001b[1m\u001b[31m\tat Season.valueOf(#18:1)\u001b[0m",
      "\u001b[1m\u001b[31m\tat .(#29:1)\u001b[0m"
     ]
    }
   ],
   "source": [
    "Season winter = Season.valueOf(\"winter\"); // IllegalArgumentException, valueOf is case-sensitive\n"
   ]
  },
  {
   "cell_type": "code",
   "execution_count": 7,
   "metadata": {},
   "outputs": [],
   "source": [
    "String winter = Season.WINTER.name(); // WINTER\n",
    "String autumn = Season.AUTUMN.toString(); // AUTUMN"
   ]
  },
  {
   "cell_type": "code",
   "execution_count": 8,
   "metadata": {},
   "outputs": [
    {
     "data": {
      "text/plain": [
       "WINTER"
      ]
     },
     "execution_count": 8,
     "metadata": {},
     "output_type": "execute_result"
    }
   ],
   "source": [
    "winter"
   ]
  },
  {
   "cell_type": "code",
   "execution_count": 9,
   "metadata": {},
   "outputs": [
    {
     "data": {
      "text/plain": [
       "AUTUMN"
      ]
     },
     "execution_count": 9,
     "metadata": {},
     "output_type": "execute_result"
    }
   ],
   "source": [
    "autumn"
   ]
  },
  {
   "cell_type": "markdown",
   "metadata": {},
   "source": [
    "An enum type can be used in the switch statement."
   ]
  },
  {
   "cell_type": "code",
   "execution_count": 10,
   "metadata": {},
   "outputs": [],
   "source": [
    "public enum UserStatus {\n",
    "    PENDING, ACTIVE, BLOCKED\n",
    "}"
   ]
  },
  {
   "cell_type": "code",
   "execution_count": 11,
   "metadata": {},
   "outputs": [],
   "source": [
    "UserStatus status = UserStatus.BLOCKED;"
   ]
  },
  {
   "cell_type": "code",
   "execution_count": 12,
   "metadata": {},
   "outputs": [
    {
     "name": "stdout",
     "output_type": "stream",
     "text": [
      "Stop! You can't pass here.\n"
     ]
    }
   ],
   "source": [
    "switch (status) {\n",
    "    case PENDING:\n",
    "        System.out.println(\"You need to wait a little.\");\n",
    "        break;\n",
    "    case ACTIVE:\n",
    "        System.out.println(\"No problems, you may pass here.\");\n",
    "        break;\n",
    "    case BLOCKED:\n",
    "        System.out.println(\"Stop! You can't pass here.\");\n",
    "        break;\n",
    "    default:\n",
    "        System.out.println(\"Unsupported enum constant.\");\n",
    "} "
   ]
  },
  {
   "cell_type": "markdown",
   "metadata": {},
   "source": [
    "Enumerated types can include fields and methods."
   ]
  },
  {
   "cell_type": "code",
   "execution_count": 13,
   "metadata": {},
   "outputs": [],
   "source": [
    "public enum TransactionStatus {\n",
    "    WAITING(false), \n",
    "    PROCESSING(false), \n",
    "    COMPLETED(true), \n",
    "    ERROR(true);\n",
    "    \n",
    "    private boolean done;\n",
    "\n",
    "    TransactionStatus(boolean done) {\n",
    "        this.done = done;\n",
    "    }\n",
    "\n",
    "    public boolean isDone() {\n",
    "        return done;\n",
    "    }\n",
    "}"
   ]
  },
  {
   "cell_type": "code",
   "execution_count": 14,
   "metadata": {},
   "outputs": [],
   "source": [
    "private static void printFullStatus(TransactionStatus status) {\n",
    "    System.out.println(\"Status: \" + status + \", is finished: \" + status.isDone());\n",
    "}"
   ]
  },
  {
   "cell_type": "code",
   "execution_count": 15,
   "metadata": {},
   "outputs": [
    {
     "name": "stdout",
     "output_type": "stream",
     "text": [
      "Status: WAITING, is finished: false\n",
      "Status: PROCESSING, is finished: false\n",
      "Status: COMPLETED, is finished: true\n",
      "Status: ERROR, is finished: true\n"
     ]
    }
   ],
   "source": [
    "printFullStatus(TransactionStatus.WAITING);\n",
    "printFullStatus(TransactionStatus.PROCESSING);\n",
    "printFullStatus(TransactionStatus.COMPLETED);\n",
    "printFullStatus(TransactionStatus.ERROR);"
   ]
  },
  {
   "cell_type": "markdown",
   "metadata": {},
   "source": [
    "__Months task:__"
   ]
  },
  {
   "cell_type": "code",
   "execution_count": 16,
   "metadata": {},
   "outputs": [],
   "source": [
    "public enum Month {\n",
    "    JAN(1),\n",
    "    FEB(2),\n",
    "    MAR(3),\n",
    "    APR(4),\n",
    "    MAY(5),\n",
    "    JUN(6),\n",
    "    JUL(7),\n",
    "    AUG(8),\n",
    "    SEP(9),\n",
    "    OCT(10),\n",
    "    NOV(11),\n",
    "    DEC(12);\n",
    "\n",
    "    Month(int number) {\n",
    "        this.number = number;\n",
    "    }\n",
    "\n",
    "    private final int number;\n",
    "        \n",
    "    public int getNumber() {\n",
    "        return number;\n",
    "    }\n",
    "}"
   ]
  },
  {
   "cell_type": "code",
   "execution_count": 19,
   "metadata": {},
   "outputs": [
    {
     "name": "stdout",
     "output_type": "stream",
     "text": [
      "JAN\n",
      "FEB\n",
      "MAR\n",
      "APR\n",
      "MAY\n",
      "JUN\n",
      "JUL\n",
      "AUG\n",
      "SEP\n",
      "OCT\n",
      "NOV\n",
      "DEC\n"
     ]
    }
   ],
   "source": [
    "for(int i = 0; i < Month.values().length; i++) {\n",
    "    System.out.println(Month.values()[i]);\n",
    "}"
   ]
  },
  {
   "cell_type": "code",
   "execution_count": 20,
   "metadata": {},
   "outputs": [
    {
     "data": {
      "text/plain": [
       "JUN"
      ]
     },
     "execution_count": 20,
     "metadata": {},
     "output_type": "execute_result"
    }
   ],
   "source": [
    "Month.valueOf(\"JUN\");"
   ]
  },
  {
   "cell_type": "markdown",
   "metadata": {},
   "source": [
    "__Practice task:__"
   ]
  },
  {
   "cell_type": "code",
   "execution_count": 22,
   "metadata": {},
   "outputs": [],
   "source": [
    "public enum Planet {\n",
    "\n",
    "    VENUS   (4.869e+24, 6.0518e+6),\n",
    "    EARTH   (5.976e+24, 6.37814e+6),\n",
    "    MARS    (6.421e+23, 3.3972e+6),\n",
    "    JUPITER (1.9e+27,   7.1492e+7),\n",
    "    SATURN  (5.688e+26, 6.0268e+7),\n",
    "    URANUS  (8.686e+25, 2.5559e+7);\n",
    "\n",
    "    private final double m; // mass in kilograms\n",
    "    private final double r; // radius in meters\n",
    "\n",
    "    Planet(double mass, double radius) {\n",
    "        this.m = mass;\n",
    "        this.r = radius;\n",
    "    }\n",
    "\n",
    "    public double mass() { return m; }\n",
    "\n",
    "    public double radius() { return r; }\n",
    "}"
   ]
  },
  {
   "cell_type": "code",
   "execution_count": 23,
   "metadata": {},
   "outputs": [
    {
     "name": "stdout",
     "output_type": "stream",
     "text": [
      "JUPITER\n",
      "SATURN\n"
     ]
    }
   ],
   "source": [
    "for (Planet planet : Planet.values()) {\n",
    "    if (planet.mass() > 5.0e+24 && planet.radius() > 6.0e+7) {\n",
    "        System.out.println(planet);\n",
    "    }\n",
    "}"
   ]
  },
  {
   "cell_type": "markdown",
   "metadata": {},
   "source": [
    "__Danger level task:__"
   ]
  },
  {
   "cell_type": "code",
   "execution_count": 24,
   "metadata": {},
   "outputs": [],
   "source": [
    "enum DangerLevel {\n",
    "    HIGH(3),\n",
    "    MEDIUM(2),\n",
    "    LOW(1);\n",
    "    \n",
    "    private final int level;\n",
    "    DangerLevel(int level) {\n",
    "        this.level = level;\n",
    "    }\n",
    "    \n",
    "    public int getLevel() {\n",
    "        return this.level;\n",
    "    }\n",
    "}"
   ]
  },
  {
   "cell_type": "code",
   "execution_count": 25,
   "metadata": {},
   "outputs": [
    {
     "name": "stdout",
     "output_type": "stream",
     "text": [
      "true\n"
     ]
    }
   ],
   "source": [
    "DangerLevel high = DangerLevel.HIGH;\n",
    "DangerLevel medium = DangerLevel.MEDIUM;\n",
    "\n",
    "System.out.println(high.getLevel() > medium.getLevel()); // true"
   ]
  },
  {
   "cell_type": "markdown",
   "metadata": {},
   "source": [
    "__Currencies task:__"
   ]
  },
  {
   "cell_type": "code",
   "execution_count": 26,
   "metadata": {},
   "outputs": [],
   "source": [
    "public enum Currency {\n",
    "    USD, EUR, GBP, RUB, UAH, KZT, CAD, JPY, CNY;\n",
    "}"
   ]
  },
  {
   "cell_type": "markdown",
   "metadata": {},
   "source": [
    "__The secret enumeration task:__"
   ]
  },
  {
   "cell_type": "code",
   "execution_count": 27,
   "metadata": {},
   "outputs": [],
   "source": [
    "enum Secret {\n",
    "    STAR, CRASH; // ...\n",
    "}"
   ]
  },
  {
   "cell_type": "code",
   "execution_count": 29,
   "metadata": {},
   "outputs": [],
   "source": [
    "public class Main {\n",
    "\n",
    "    public static void main(String[] args) {\n",
    "        int count = 0;\n",
    "\t\tfor(Secret val : Secret.values()) {\n",
    "            if(val.toString().startsWith(\"STAR\")) {\n",
    "                count++;\n",
    "            }\n",
    "        }\n",
    "        System.out.println(count);\n",
    "    }\n",
    "}"
   ]
  },
  {
   "cell_type": "code",
   "execution_count": null,
   "metadata": {},
   "outputs": [],
   "source": []
  }
 ],
 "metadata": {
  "kernelspec": {
   "display_name": "Java",
   "language": "java",
   "name": "java"
  },
  "language_info": {
   "codemirror_mode": "java",
   "file_extension": ".java",
   "mimetype": "text/x-java-source",
   "name": "Java",
   "pygments_lexer": "java",
   "version": "11.0.1+13-LTS"
  }
 },
 "nbformat": 4,
 "nbformat_minor": 2
}
